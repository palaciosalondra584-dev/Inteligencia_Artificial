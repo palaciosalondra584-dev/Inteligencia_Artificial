{
  "nbformat": 4,
  "nbformat_minor": 0,
  "metadata": {
    "colab": {
      "provenance": []
    },
    "kernelspec": {
      "name": "python3",
      "display_name": "Python 3"
    },
    "language_info": {
      "name": "python"
    }
  },
  "cells": [
    {
      "cell_type": "markdown",
      "source": [
        " **¿Como actua la neurona?**\n",
        "\n",
        "La neurona solo se activa (da 1) si ambas entradas son 1, de otra forma no se activa la neurona"
      ],
      "metadata": {
        "id": "nrSjDkcYwwtV"
      }
    },
    {
      "cell_type": "code",
      "source": [
        "##Importamos la biblioteca NumPy\n",
        "import numpy as np\n",
        "#Enatradas para la primer neurona\n",
        "X = np.array([\n",
        "              [0,0],\n",
        "              [0,1],\n",
        "              [1,0],\n",
        "              [1,1]\n",
        "])\n",
        "#Salidas esperadas para la compuerta lógica AND\n",
        "Y = np.array([0,0,0,1])\n",
        "#Asignamos pesos para las entradas\n",
        "W = [1,1]\n",
        "#Umbral para la funcion de activacion\n",
        "umbral = 2"
      ],
      "metadata": {
        "id": "StEcqpOFqUQs"
      },
      "execution_count": 6,
      "outputs": []
    },
    {
      "cell_type": "code",
      "source": [
        "class McCullochPitts:\n",
        "    def __init__(self, weights, umbral):\n",
        "        \"\"\"\n",
        "        Constructor de la neurona MPC\n",
        "        Guardar las variables\n",
        "        weights ->vector de pesos iniciales\n",
        "        umbral ->umbral paraa usar la funcion de activacion\n",
        "        \"\"\"\n",
        "        self.weights = weights\n",
        "        self.umbral = umbral\n",
        "    def predict(self, X):\n",
        "        \"\"\"\n",
        "             Calcular las salida de las neuronas para cada fila\n",
        "        \"\"\"\n",
        "        #Listas donde se guardaran las salidas (predicciones)\n",
        "        predictions = []\n",
        "        #Recorremos cada fila de entradas\n",
        "        for i in range (X.shape [0]):\n",
        "            #Caluculamos la suma ponderada : w1*x1 + w2*x2\n",
        "            weighted_sum = np.dot(self.weights, X[i])\n",
        "            #Mostramos en la consola la entrada y la suma\n",
        "            print(f\"Input: {X[i]}, Weighted Sum: {weighted_sum}\")\n",
        "            #Comparacion con el umbral determinar si la neurona se activa o no\n",
        "            ## Aplicamos la función de activación (función escalón)\n",
        "            # Si la suma ponderada es mayor o igual al umbral, la neurona se activa (1)\n",
        "            # Si no, la salida es 0 (neurona no activada)\n",
        "            if  weighted_sum >= self.umbral:\n",
        "                predictions.append(1)\n",
        "            else:\n",
        "                predictions.append(0)\n",
        "        return predictions"
      ],
      "metadata": {
        "id": "a3BrcP9hpXqO"
      },
      "execution_count": 7,
      "outputs": []
    },
    {
      "cell_type": "code",
      "metadata": {
        "id": "cb28b467",
        "colab": {
          "base_uri": "https://localhost:8080/"
        },
        "outputId": "9fdc8ceb-022c-42d7-cb98-3ba3a66eb379"
      },
      "source": [
        "#Instanciamos la clase McCullochPitts\n",
        "mcp = McCullochPitts(W, umbral)\n",
        "#Calculamos las predicciones\n",
        "predictions = mcp.predict(X)\n",
        "#mostramos el resultado final\n",
        "print (\"predictions:\", predictions)"
      ],
      "execution_count": 8,
      "outputs": [
        {
          "output_type": "stream",
          "name": "stdout",
          "text": [
            "Input: [0 0], Weighted Sum: 0\n",
            "Input: [0 1], Weighted Sum: 1\n",
            "Input: [1 0], Weighted Sum: 1\n",
            "Input: [1 1], Weighted Sum: 2\n",
            "predictions: [0, 0, 0, 1]\n"
          ]
        }
      ]
    }
  ]
}